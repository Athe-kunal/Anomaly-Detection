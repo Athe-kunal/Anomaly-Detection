{
 "metadata": {
  "language_info": {
   "codemirror_mode": {
    "name": "ipython",
    "version": 3
   },
   "file_extension": ".py",
   "mimetype": "text/x-python",
   "name": "python",
   "nbconvert_exporter": "python",
   "pygments_lexer": "ipython3",
   "version": "3.8.5"
  },
  "orig_nbformat": 2,
  "kernelspec": {
   "name": "python385jvsc74a57bd0f39e1c8c489400b3d4a7bbf2190d70d01fa3106680ceb91abf4528ba163cf14b",
   "display_name": "Python 3.8.5 64-bit ('PyTorch': conda)"
  }
 },
 "nbformat": 4,
 "nbformat_minor": 2,
 "cells": [
  {
   "cell_type": "code",
   "execution_count": 1,
   "metadata": {},
   "outputs": [
    {
     "output_type": "execute_result",
     "data": {
      "text/plain": [
       "<torch._C.Generator at 0x1746f333250>"
      ]
     },
     "metadata": {},
     "execution_count": 1
    }
   ],
   "source": [
    "import torch\n",
    "\n",
    "import copy\n",
    "import numpy as np\n",
    "import pandas as pd\n",
    "import seaborn as sns\n",
    "from pylab import rcParams\n",
    "import matplotlib.pyplot as plt\n",
    "from matplotlib import rc\n",
    "from sklearn.model_selection import train_test_split\n",
    "from sklearn.preprocessing import MinMaxScaler\n",
    "\n",
    "from torch import nn, optim\n",
    "\n",
    "import torch.nn.functional as F\n",
    "from tqdm import tqdm\n",
    "\n",
    "torch.manual_seed(42)"
   ]
  },
  {
   "cell_type": "code",
   "execution_count": 2,
   "metadata": {},
   "outputs": [
    {
     "output_type": "execute_result",
     "data": {
      "text/plain": [
       "device(type='cuda')"
      ]
     },
     "metadata": {},
     "execution_count": 2
    }
   ],
   "source": [
    "device = torch.device('cuda' if torch.cuda.is_available() else 'cpu')\n",
    "device"
   ]
  },
  {
   "cell_type": "code",
   "execution_count": 3,
   "metadata": {},
   "outputs": [
    {
     "output_type": "execute_result",
     "data": {
      "text/plain": [
       "     Time Step  BFP_SEAL_WATER_FLOW  BFP_SUCT_HDR_PRESS________  \\\n",
       "0  5/1/98 0:00                14.35                      136.18   \n",
       "1  5/1/98 0:05                14.35                      136.18   \n",
       "2  5/1/98 0:10                14.35                      136.18   \n",
       "3  5/1/98 0:15                14.35                      136.18   \n",
       "4  5/1/98 0:20                14.34                      136.18   \n",
       "\n",
       "   AUX_CDSR_2B_PRESS_________  BFP_SUCTION_HDR_TEMP______  \\\n",
       "0                        29.2                       88.57   \n",
       "1                        29.2                       88.57   \n",
       "2                        29.2                       88.57   \n",
       "3                        29.2                       88.57   \n",
       "4                        29.2                       88.57   \n",
       "\n",
       "   BFPT_B_VALVE_DEMAND_HP_STO  BFPT_B_VALVE_DEMAND_LP_STO  \\\n",
       "0                        0.01                         0.0   \n",
       "1                        0.01                         0.0   \n",
       "2                        0.01                         0.0   \n",
       "3                        0.01                         0.0   \n",
       "4                        0.01                         0.0   \n",
       "\n",
       "   BFPT_B_CALC_VALVE_DEMAND__  2B_TDBFP_RECIRC_VLV_DMD___  \\\n",
       "0                         0.0                       99.98   \n",
       "1                         0.0                       99.98   \n",
       "2                         0.0                       99.98   \n",
       "3                         0.0                       99.98   \n",
       "4                         0.0                       99.98   \n",
       "\n",
       "   BFP_2B_DISCHARGE_FLOW_____  ...  BFPT_2B_RAD_SHAFT_VIB_IB_B  \\\n",
       "0                         0.0  ...                         NaN   \n",
       "1                         0.0  ...                         NaN   \n",
       "2                         0.0  ...                         NaN   \n",
       "3                         0.0  ...                         NaN   \n",
       "4                         0.0  ...                         NaN   \n",
       "\n",
       "   BFP_2B_AXIAL_SHAFT_VIB____  BFPT_2B_THRUST_BRG_WEAR___  \\\n",
       "0                         NaN                         NaN   \n",
       "1                         NaN                         NaN   \n",
       "2                         NaN                         NaN   \n",
       "3                         NaN                         NaN   \n",
       "4                         NaN                         NaN   \n",
       "\n",
       "   BFP_2B_RAD_SHAFT_VIB_OB_BR  BFP_2B_RAD_SHAFT_VIB_IB_BR  \\\n",
       "0                         NaN                         NaN   \n",
       "1                         NaN                         NaN   \n",
       "2                         NaN                         NaN   \n",
       "3                         NaN                         NaN   \n",
       "4                         NaN                         NaN   \n",
       "\n",
       "   BFPT_2B_AXIAL_SHAFT_VIB___  MAIN_STEAM_FLOW_TO_BFPS___  \\\n",
       "0                         NaN                         0.0   \n",
       "1                         NaN                         0.0   \n",
       "2                         NaN                         0.0   \n",
       "3                         NaN                         0.0   \n",
       "4                         NaN                         0.0   \n",
       "\n",
       "   EXT_STM_FLOW_TO_BFP_2B____  CW_FRM_AUX_CDSR_2B________  CW_TO_AUX_CDS_2B  \n",
       "0                         NaN                       68.11             65.72  \n",
       "1                         NaN                       68.11             65.72  \n",
       "2                         NaN                       68.11             65.72  \n",
       "3                         NaN                       68.11             65.72  \n",
       "4                         NaN                       68.11             65.72  \n",
       "\n",
       "[5 rows x 48 columns]"
      ],
      "text/html": "<div>\n<style scoped>\n    .dataframe tbody tr th:only-of-type {\n        vertical-align: middle;\n    }\n\n    .dataframe tbody tr th {\n        vertical-align: top;\n    }\n\n    .dataframe thead th {\n        text-align: right;\n    }\n</style>\n<table border=\"1\" class=\"dataframe\">\n  <thead>\n    <tr style=\"text-align: right;\">\n      <th></th>\n      <th>Time Step</th>\n      <th>BFP_SEAL_WATER_FLOW</th>\n      <th>BFP_SUCT_HDR_PRESS________</th>\n      <th>AUX_CDSR_2B_PRESS_________</th>\n      <th>BFP_SUCTION_HDR_TEMP______</th>\n      <th>BFPT_B_VALVE_DEMAND_HP_STO</th>\n      <th>BFPT_B_VALVE_DEMAND_LP_STO</th>\n      <th>BFPT_B_CALC_VALVE_DEMAND__</th>\n      <th>2B_TDBFP_RECIRC_VLV_DMD___</th>\n      <th>BFP_2B_DISCHARGE_FLOW_____</th>\n      <th>...</th>\n      <th>BFPT_2B_RAD_SHAFT_VIB_IB_B</th>\n      <th>BFP_2B_AXIAL_SHAFT_VIB____</th>\n      <th>BFPT_2B_THRUST_BRG_WEAR___</th>\n      <th>BFP_2B_RAD_SHAFT_VIB_OB_BR</th>\n      <th>BFP_2B_RAD_SHAFT_VIB_IB_BR</th>\n      <th>BFPT_2B_AXIAL_SHAFT_VIB___</th>\n      <th>MAIN_STEAM_FLOW_TO_BFPS___</th>\n      <th>EXT_STM_FLOW_TO_BFP_2B____</th>\n      <th>CW_FRM_AUX_CDSR_2B________</th>\n      <th>CW_TO_AUX_CDS_2B</th>\n    </tr>\n  </thead>\n  <tbody>\n    <tr>\n      <th>0</th>\n      <td>5/1/98 0:00</td>\n      <td>14.35</td>\n      <td>136.18</td>\n      <td>29.2</td>\n      <td>88.57</td>\n      <td>0.01</td>\n      <td>0.0</td>\n      <td>0.0</td>\n      <td>99.98</td>\n      <td>0.0</td>\n      <td>...</td>\n      <td>NaN</td>\n      <td>NaN</td>\n      <td>NaN</td>\n      <td>NaN</td>\n      <td>NaN</td>\n      <td>NaN</td>\n      <td>0.0</td>\n      <td>NaN</td>\n      <td>68.11</td>\n      <td>65.72</td>\n    </tr>\n    <tr>\n      <th>1</th>\n      <td>5/1/98 0:05</td>\n      <td>14.35</td>\n      <td>136.18</td>\n      <td>29.2</td>\n      <td>88.57</td>\n      <td>0.01</td>\n      <td>0.0</td>\n      <td>0.0</td>\n      <td>99.98</td>\n      <td>0.0</td>\n      <td>...</td>\n      <td>NaN</td>\n      <td>NaN</td>\n      <td>NaN</td>\n      <td>NaN</td>\n      <td>NaN</td>\n      <td>NaN</td>\n      <td>0.0</td>\n      <td>NaN</td>\n      <td>68.11</td>\n      <td>65.72</td>\n    </tr>\n    <tr>\n      <th>2</th>\n      <td>5/1/98 0:10</td>\n      <td>14.35</td>\n      <td>136.18</td>\n      <td>29.2</td>\n      <td>88.57</td>\n      <td>0.01</td>\n      <td>0.0</td>\n      <td>0.0</td>\n      <td>99.98</td>\n      <td>0.0</td>\n      <td>...</td>\n      <td>NaN</td>\n      <td>NaN</td>\n      <td>NaN</td>\n      <td>NaN</td>\n      <td>NaN</td>\n      <td>NaN</td>\n      <td>0.0</td>\n      <td>NaN</td>\n      <td>68.11</td>\n      <td>65.72</td>\n    </tr>\n    <tr>\n      <th>3</th>\n      <td>5/1/98 0:15</td>\n      <td>14.35</td>\n      <td>136.18</td>\n      <td>29.2</td>\n      <td>88.57</td>\n      <td>0.01</td>\n      <td>0.0</td>\n      <td>0.0</td>\n      <td>99.98</td>\n      <td>0.0</td>\n      <td>...</td>\n      <td>NaN</td>\n      <td>NaN</td>\n      <td>NaN</td>\n      <td>NaN</td>\n      <td>NaN</td>\n      <td>NaN</td>\n      <td>0.0</td>\n      <td>NaN</td>\n      <td>68.11</td>\n      <td>65.72</td>\n    </tr>\n    <tr>\n      <th>4</th>\n      <td>5/1/98 0:20</td>\n      <td>14.34</td>\n      <td>136.18</td>\n      <td>29.2</td>\n      <td>88.57</td>\n      <td>0.01</td>\n      <td>0.0</td>\n      <td>0.0</td>\n      <td>99.98</td>\n      <td>0.0</td>\n      <td>...</td>\n      <td>NaN</td>\n      <td>NaN</td>\n      <td>NaN</td>\n      <td>NaN</td>\n      <td>NaN</td>\n      <td>NaN</td>\n      <td>0.0</td>\n      <td>NaN</td>\n      <td>68.11</td>\n      <td>65.72</td>\n    </tr>\n  </tbody>\n</table>\n<p>5 rows × 48 columns</p>\n</div>"
     },
     "metadata": {},
     "execution_count": 3
    }
   ],
   "source": [
    "temp_df = pd.read_csv(r\"D:\\Uptime AI\\Uptime AI\\baldwin_pump_data.csv\")\n",
    "temp_df.head()"
   ]
  },
  {
   "cell_type": "code",
   "execution_count": 4,
   "metadata": {},
   "outputs": [],
   "source": [
    "df  = temp_df.copy()"
   ]
  },
  {
   "cell_type": "code",
   "execution_count": 5,
   "metadata": {},
   "outputs": [],
   "source": [
    "n_features = df.shape[1]-1\n",
    "batch_size = 16"
   ]
  },
  {
   "cell_type": "code",
   "execution_count": 6,
   "metadata": {},
   "outputs": [],
   "source": [
    "#Encoder Decoder for AutoEncoder model\n",
    "class Encoder(nn.Module):\n",
    "    def __init__(self,batch_size,n_features,embedding_dim):\n",
    "        super(Encoder,self).__init__()\n",
    "\n",
    "        self.batch_size = batch_size\n",
    "        self.n_features = n_features\n",
    "        self.embedding_dim = embedding_dim\n",
    "        self.hidden_dim = embedding_dim*2\n",
    "\n",
    "        self.rnn1 = nn.LSTM(\n",
    "            input_size = n_features,\n",
    "            hidden_size = self.hidden_dim,\n",
    "            num_layers = 3, dropout = 0.3\n",
    "        )\n",
    "        self.rnn2 = nn.LSTM(\n",
    "            input_size = self.hidden_dim,\n",
    "            hidden_size = self.embedding_dim,\n",
    "            num_layers = 1\n",
    "        )\n",
    "        \n",
    "        (hidden_n,cell_n) = (torch.zeros(1,self.batch_size,self.hidden_dim),torch.zeros(1,self.batch_size,self.hidden_dim))\n",
    "    \n",
    "    def forward(self,x):\n",
    "        \n",
    "        x = x.unsqueeze(0)\n",
    "        # print(x.size())\n",
    "        x, (hidden_n,cell_n) = self.rnn1(x)\n",
    "        x, (hidden_n,cell_n) = self.rnn2(x)\n",
    "        # print(hidden_n.size())\n",
    "\n",
    "        return hidden_n.reshape((1,-1,self.embedding_dim))\n",
    "\n",
    "class Decoder(nn.Module):\n",
    "    def __init__(self,batch_size,input_dim,output_dim=n_features): #input_dim is same as the embedding dimension\n",
    "        super(Decoder,self).__init__()\n",
    "\n",
    "        self.batch_size, self.input_dim = batch_size, input_dim\n",
    "        self.hidden_dim = input_dim * 2\n",
    "        self.output_dim = output_dim\n",
    "\n",
    "        self.rnn1 = nn.LSTM(\n",
    "            input_size = input_dim,\n",
    "            hidden_size = input_dim,\n",
    "            num_layers = 3,dropout = 0.3)\n",
    "\n",
    "        self.rnn2 = nn.LSTM(\n",
    "            input_size = input_dim,\n",
    "            hidden_size =self.hidden_dim,\n",
    "            num_layers = 1)\n",
    "\n",
    "        self.dense_layers = nn.Linear(self.hidden_dim,output_dim)\n",
    "\n",
    "    def forward(self,x):\n",
    "\n",
    "        x, (hidden_n,cell_n) = self.rnn1(x)\n",
    "        x, (hidden_n,cell_n) = self.rnn2(x)\n",
    "        x = x.reshape((-1,self.hidden_dim))\n",
    "\n",
    "        return self.dense_layers(x)\n",
    "\n",
    "class RAE(nn.Module):\n",
    "    def __init__(self,batch_size,n_features,embedding_dim):\n",
    "        super(RAE,self).__init__()\n",
    "\n",
    "        self.batch_size, self.n_features = batch_size, n_features\n",
    "        self.embedding_dim = embedding_dim\n",
    "\n",
    "        self.encoder = Encoder(batch_size,n_features,embedding_dim).to(device)\n",
    "        self.decoder = Decoder(batch_size,embedding_dim).to(device)\n",
    "    def forward(self,x):\n",
    "        x = self.encoder(x)\n",
    "        x = self.decoder(x)\n",
    "\n",
    "        return x"
   ]
  },
  {
   "cell_type": "code",
   "execution_count": 7,
   "metadata": {},
   "outputs": [],
   "source": [
    "model = RAE(batch_size,n_features,embedding_dim=96)\n",
    "model = model.to(device)"
   ]
  },
  {
   "cell_type": "code",
   "execution_count": 8,
   "metadata": {},
   "outputs": [],
   "source": [
    "model = torch.load(r\"D:\\Uptime AI\\Uptime AI\\Batched.pt\")"
   ]
  },
  {
   "cell_type": "code",
   "execution_count": 9,
   "metadata": {},
   "outputs": [
    {
     "output_type": "execute_result",
     "data": {
      "text/plain": [
       "RAE(\n",
       "  (encoder): Encoder(\n",
       "    (rnn1): LSTM(47, 192, num_layers=3)\n",
       "    (rnn2): LSTM(192, 96)\n",
       "  )\n",
       "  (decoder): Decoder(\n",
       "    (rnn1): LSTM(96, 96, num_layers=3)\n",
       "    (rnn2): LSTM(96, 192)\n",
       "    (dense_layers): Linear(in_features=192, out_features=47, bias=True)\n",
       "  )\n",
       ")"
      ]
     },
     "metadata": {},
     "execution_count": 9
    }
   ],
   "source": [
    "model"
   ]
  },
  {
   "cell_type": "code",
   "execution_count": 10,
   "metadata": {},
   "outputs": [],
   "source": [
    "df = df.drop(df[df.BFPT_B_LP_SPEED_INPUT__1__ == 0.0].index)\n",
    "# print(len(df)) #length of dataframe after removing the shutdown conditions\n",
    "df.interpolate(method='linear', limit_direction='backward', axis=0,inplace=True)\n",
    "df.fillna(df.mean(),inplace=True)"
   ]
  },
  {
   "cell_type": "code",
   "execution_count": 11,
   "metadata": {},
   "outputs": [],
   "source": [
    "df.drop(columns=['Time Step'],inplace=True)\n",
    "dataset = torch.Tensor(df.values)\n",
    "loader = torch.utils.data.DataLoader(dataset)"
   ]
  },
  {
   "cell_type": "code",
   "execution_count": 12,
   "metadata": {},
   "outputs": [],
   "source": [
    "def predict(model,loader):\n",
    "    predictions,losses = [],[]\n",
    "    criterion = nn.L1Loss(reduction='mean').to(device)\n",
    "    with torch.no_grad():\n",
    "        model = model.eval()\n",
    "        for seq_true in loader:\n",
    "            seq_true = seq_true.to(device)\n",
    "            seq_pred = model(seq_true)\n",
    "\n",
    "            loss = criterion(seq_pred,seq_true)\n",
    "            predictions.append(seq_pred.cpu().numpy().flatten())\n",
    "            losses.append(loss.item())\n",
    "    return predictions, losses\n",
    "\n",
    "#Predictions and losses on the entire dataset\n",
    "predictions, losses = predict(model,loader)"
   ]
  },
  {
   "cell_type": "code",
   "execution_count": 13,
   "metadata": {},
   "outputs": [
    {
     "output_type": "execute_result",
     "data": {
      "text/plain": [
       "(6424, 6424)"
      ]
     },
     "metadata": {},
     "execution_count": 13
    }
   ],
   "source": [
    "len(predictions),len(df)"
   ]
  },
  {
   "cell_type": "code",
   "execution_count": 14,
   "metadata": {},
   "outputs": [],
   "source": [
    "#A dataframe for predictions\n",
    "preds_df = pd.DataFrame(predictions,columns=df.columns,index=df.index)"
   ]
  },
  {
   "cell_type": "code",
   "execution_count": 36,
   "metadata": {},
   "outputs": [],
   "source": [
    "def anomalous_columns(df,preds_df,num_anomalous_columns:int): \n",
    "    percentage_df = (df - preds_df).abs()\n",
    "    error_series = percentage_df.sum(axis=0)/len(percentage_df)\n",
    "\n",
    "    error_series = error_series.sort_values(ascending=False).index\n",
    "    \n",
    "    return error_series[:num_anomalous_columns]"
   ]
  },
  {
   "cell_type": "code",
   "execution_count": 37,
   "metadata": {},
   "outputs": [
    {
     "output_type": "execute_result",
     "data": {
      "text/plain": [
       "Index(['BFPT_B_LP_SPEED_INPUT__2__', 'BFPT_B_LP_SPEED_INPUT__1__',\n",
       "       '2B_TDBFP_DISCHARGE_FLOW___', 'BFP_2B_DISCHARGE_FLOW_____',\n",
       "       'BFP_DSCH_HDR_PRESS________'],\n",
       "      dtype='object')"
      ]
     },
     "metadata": {},
     "execution_count": 37
    }
   ],
   "source": [
    "#You can change the number of anomalous region you want\n",
    "columns = anomalous_columns(df,preds_df,5)\n",
    "columns"
   ]
  },
  {
   "cell_type": "code",
   "execution_count": null,
   "metadata": {},
   "outputs": [],
   "source": []
  }
 ]
}